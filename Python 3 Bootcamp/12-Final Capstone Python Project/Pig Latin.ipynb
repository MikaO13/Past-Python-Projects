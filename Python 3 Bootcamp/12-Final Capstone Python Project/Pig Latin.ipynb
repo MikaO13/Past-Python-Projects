{
 "cells": [
  {
   "cell_type": "code",
   "execution_count": 16,
   "metadata": {},
   "outputs": [
    {
     "data": {
      "text/plain": [
       "\"it'sway away uarterqay afterway ,ay1 i'mway away ittlelay runkday andway iway eednay ouyay owwwww!nay\""
      ]
     },
     "execution_count": 16,
     "metadata": {},
     "output_type": "execute_result"
    }
   ],
   "source": [
    "def eng_to_pig(words):\n",
    "    '''\n",
    "    Takes in a group of words in english and translates it to pig latin\n",
    "    \n",
    "    Parameters:\n",
    "    words(str): A phrase, sentence, or group of words in general.\n",
    "    \n",
    "    Returns:\n",
    "    pigstr(str): A phrase, sentence, or group of words in general translated into pig latin. \n",
    "    '''\n",
    "    \n",
    "    wordslst = []\n",
    "    piglst = []\n",
    "    pigstr = ''\n",
    "    \n",
    "    for word in words.lower().split(): \n",
    "        wordlst = []\n",
    "        for let in word:\n",
    "            wordlst.append(let)\n",
    "        wordslst.append(wordlst)\n",
    "    \n",
    "    for word in wordslst:\n",
    "        wordcomp = []\n",
    "        savedChars = []\n",
    "        for let in word:\n",
    "            if not let.isalpha() and let != \"'\" and let != '-' and let.isdigit():\n",
    "                savedChars.append(let)\n",
    "                word.remove(let)\n",
    "        first = word[0]\n",
    "        if first == 'a' or first == 'e' or first == 'i' or first == 'o' or first == 'u':\n",
    "            wordcomp = word\n",
    "            wordcomp.append('w')\n",
    "        else:\n",
    "            word.remove(first)\n",
    "            wordcomp = word\n",
    "            wordcomp.append(first)\n",
    "        for let in 'ay':\n",
    "            wordcomp.append(let)\n",
    "        for char in savedChars:\n",
    "            wordcomp.append(char)\n",
    "        piglst.append(word)\n",
    "    \n",
    "    for word in piglst:\n",
    "        for let in word:\n",
    "            pigstr += let\n",
    "        if word != piglst[-1]:\n",
    "            pigstr += ' '\n",
    "    \n",
    "    return pigstr\n",
    "    \n",
    "\n",
    "eng_to_pig(\"It's a quarter after 1, I'm a little drunk and I need you nowwwww!\")"
   ]
  },
  {
   "cell_type": "code",
   "execution_count": null,
   "metadata": {},
   "outputs": [],
   "source": []
  }
 ],
 "metadata": {
  "kernelspec": {
   "display_name": "Python 3",
   "language": "python",
   "name": "python3"
  },
  "language_info": {
   "codemirror_mode": {
    "name": "ipython",
    "version": 3
   },
   "file_extension": ".py",
   "mimetype": "text/x-python",
   "name": "python",
   "nbconvert_exporter": "python",
   "pygments_lexer": "ipython3",
   "version": "3.7.3"
  }
 },
 "nbformat": 4,
 "nbformat_minor": 2
}
