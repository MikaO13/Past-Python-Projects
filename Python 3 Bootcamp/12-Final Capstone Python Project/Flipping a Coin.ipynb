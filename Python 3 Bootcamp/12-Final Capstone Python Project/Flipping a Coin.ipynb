{
 "cells": [
  {
   "cell_type": "code",
   "execution_count": 30,
   "metadata": {},
   "outputs": [],
   "source": [
    "import random\n",
    "def coin_flipping():\n",
    "    while True:\n",
    "        try:\n",
    "            times = int(input('How many times do you want to flip the coin? '))\n",
    "        except:\n",
    "            continue\n",
    "        else:\n",
    "            break\n",
    "    count = {'heads': 0, 'tails': 1}\n",
    "    for flip in range(times-1):\n",
    "        if random.random() > .5:\n",
    "            count['heads'] += 1\n",
    "        else:\n",
    "            count['tails'] += 1\n",
    "    \n",
    "    print('\\tHeads\\t|\\tTails')\n",
    "    print('Count   ' + str(count['heads']) + '\\t|\\t' + str(count['tails']))"
   ]
  },
  {
   "cell_type": "code",
   "execution_count": 31,
   "metadata": {},
   "outputs": [
    {
     "name": "stdout",
     "output_type": "stream",
     "text": [
      "How many times do you want to flip the coin? 100\n",
      "\tHeads\t|\tTails\n",
      "Count   48\t|\t52\n"
     ]
    }
   ],
   "source": [
    "coin_flipping()"
   ]
  },
  {
   "cell_type": "code",
   "execution_count": null,
   "metadata": {},
   "outputs": [],
   "source": []
  }
 ],
 "metadata": {
  "kernelspec": {
   "display_name": "Python 3",
   "language": "python",
   "name": "python3"
  },
  "language_info": {
   "codemirror_mode": {
    "name": "ipython",
    "version": 3
   },
   "file_extension": ".py",
   "mimetype": "text/x-python",
   "name": "python",
   "nbconvert_exporter": "python",
   "pygments_lexer": "ipython3",
   "version": "3.7.3"
  }
 },
 "nbformat": 4,
 "nbformat_minor": 2
}
