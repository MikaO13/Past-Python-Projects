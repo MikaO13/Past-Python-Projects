{
 "cells": [
  {
   "cell_type": "code",
   "execution_count": 8,
   "metadata": {},
   "outputs": [],
   "source": [
    "def hello(name='Pixie'):\n",
    "    print('The hello() function has been executed!')\n",
    "    \n",
    "    def greet(): # limited scope - inside of hello\n",
    "        return '\\t this is the greet() func inside hello()'\n",
    "    \n",
    "    def welcome():\n",
    "        return '\\t this is welcome() inside hello()'\n",
    "    \n",
    "    if name == 'Pixie':\n",
    "        return greet\n",
    "    else:\n",
    "        return welcom"
   ]
  },
  {
   "cell_type": "code",
   "execution_count": 13,
   "metadata": {},
   "outputs": [
    {
     "name": "stdout",
     "output_type": "stream",
     "text": [
      "The hello() function has been executed!\n"
     ]
    },
    {
     "data": {
      "text/plain": [
       "<function __main__.hello.<locals>.greet()>"
      ]
     },
     "execution_count": 13,
     "metadata": {},
     "output_type": "execute_result"
    }
   ],
   "source": [
    "hello()"
   ]
  },
  {
   "cell_type": "markdown",
   "metadata": {},
   "source": [
    "You can pass functions into other functions"
   ]
  },
  {
   "cell_type": "code",
   "execution_count": 12,
   "metadata": {},
   "outputs": [
    {
     "name": "stdout",
     "output_type": "stream",
     "text": [
      "Hi\n",
      "Pixie is cute\n"
     ]
    }
   ],
   "source": [
    "def pix():\n",
    "    return 'Pixie is cute'\n",
    "\n",
    "def other(func):\n",
    "    print('Hi')\n",
    "    print(pix())\n",
    "    \n",
    "other(pix)"
   ]
  },
  {
   "cell_type": "code",
   "execution_count": 22,
   "metadata": {},
   "outputs": [],
   "source": [
    "def new_decorator(orignal_func):\n",
    "    \n",
    "    def wrap_func(): #extra functionality\n",
    "        \n",
    "        print('Extra code before original function')\n",
    "        \n",
    "        orignal_func()\n",
    "        \n",
    "        print('Extra code after original function')\n",
    "        \n",
    "    return wrap_func()"
   ]
  },
  {
   "cell_type": "code",
   "execution_count": 26,
   "metadata": {},
   "outputs": [],
   "source": [
    "@new_decorator\n",
    "def func_needs_decorator():\n",
    "    print('I want to be decorated')"
   ]
  },
  {
   "cell_type": "code",
   "execution_count": 28,
   "metadata": {},
   "outputs": [
    {
     "name": "stdout",
     "output_type": "stream",
     "text": [
      "I want to be decorated\n"
     ]
    }
   ],
   "source": [
    "func_needs_decorator()"
   ]
  },
  {
   "cell_type": "code",
   "execution_count": null,
   "metadata": {},
   "outputs": [],
   "source": []
  }
 ],
 "metadata": {
  "kernelspec": {
   "display_name": "Python 3",
   "language": "python",
   "name": "python3"
  },
  "language_info": {
   "codemirror_mode": {
    "name": "ipython",
    "version": 3
   },
   "file_extension": ".py",
   "mimetype": "text/x-python",
   "name": "python",
   "nbconvert_exporter": "python",
   "pygments_lexer": "ipython3",
   "version": "3.7.3"
  }
 },
 "nbformat": 4,
 "nbformat_minor": 2
}
