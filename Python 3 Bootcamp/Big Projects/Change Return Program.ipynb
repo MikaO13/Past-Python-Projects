{
 "cells": [
  {
   "cell_type": "code",
   "execution_count": 94,
   "metadata": {},
   "outputs": [],
   "source": [
    "def change_return():\n",
    "    try:\n",
    "        cost = float(input('Please enter the total cost >> '))\n",
    "        given = float(input('Please enter the amount given >> '))\n",
    "    except:\n",
    "        return 'incorrect input - not a number'\n",
    "    else:\n",
    "        pass\n",
    "    change = given - cost\n",
    "    if change < 0:\n",
    "        return 'not enough money given'\n",
    "    elif change == 0:\n",
    "        return 'no change required'\n",
    "    else:\n",
    "        change *= 100\n",
    "        amts = {'Hundred Dollar Bill\\t': 10000, 'Fifty Dollar Bill\\t': 5000, 'Twenty Dollar Bill\\t': 2000, 'Ten Dollar Bill\\t\\t': 1000, 'Five Dollar Bill\\t': 500, 'Two Dollar Bill\\t\\t': 200, 'One Dollar Bill\\t\\t': 100, 'Quarter\\t\\t\\t': 25, 'Dime\\t\\t\\t':10, 'Nickle\\t\\t\\t':5, 'Penny\\t\\t\\t':1}\n",
    "        count = {}\n",
    "        changeLeft = change\n",
    "        for moneyType in amts:\n",
    "            if changeLeft < amts[moneyType]:\n",
    "                next\n",
    "            elif changeLeft >= amts[moneyType]:\n",
    "                count[moneyType],changeLeft = int(changeLeft // amts[moneyType]), changeLeft % amts[moneyType]\n",
    "        print('Bill/Coin\\t\\t|\\t\\tAmount Owed\\n' + '-'*51)\n",
    "        for changeType in count:\n",
    "            print(changeType + '|\\t\\t\\t  ' + str(count[changeType]))"
   ]
  },
  {
   "cell_type": "code",
   "execution_count": 95,
   "metadata": {
    "scrolled": false
   },
   "outputs": [
    {
     "name": "stdout",
     "output_type": "stream",
     "text": [
      "Please enter the total cost >> 12.17\n",
      "Please enter the amount given >> 39.32\n",
      "12.17\n",
      "39.32\n",
      "27.15\n",
      "Bill/Coin\t\t|\t\tAmount Owed\n",
      "---------------------------------------------------\n",
      "Twenty Dollar Bill\t|\t\t\t  1\n",
      "Five Dollar Bill\t|\t\t\t  1\n",
      "Two Dollar Bill\t\t|\t\t\t  1\n",
      "Dime\t\t\t|\t\t\t  1\n",
      "Nickle\t\t\t|\t\t\t  1\n"
     ]
    }
   ],
   "source": [
    "change_return()"
   ]
  },
  {
   "cell_type": "code",
   "execution_count": null,
   "metadata": {},
   "outputs": [],
   "source": []
  }
 ],
 "metadata": {
  "kernelspec": {
   "display_name": "Python 3",
   "language": "python",
   "name": "python3"
  },
  "language_info": {
   "codemirror_mode": {
    "name": "ipython",
    "version": 3
   },
   "file_extension": ".py",
   "mimetype": "text/x-python",
   "name": "python",
   "nbconvert_exporter": "python",
   "pygments_lexer": "ipython3",
   "version": "3.7.3"
  }
 },
 "nbformat": 4,
 "nbformat_minor": 2
}
